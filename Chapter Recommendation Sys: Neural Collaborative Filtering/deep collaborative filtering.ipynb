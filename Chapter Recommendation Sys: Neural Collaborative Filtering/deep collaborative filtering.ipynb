{
 "cells": [
  {
   "cell_type": "code",
   "execution_count": 1,
   "id": "exact-appendix",
   "metadata": {},
   "outputs": [],
   "source": [
    "import pandas as pd\n",
    "import numpy as np"
   ]
  },
  {
   "cell_type": "code",
   "execution_count": 2,
   "id": "warming-completion",
   "metadata": {},
   "outputs": [],
   "source": [
    "df = pd.read_csv('../../../../datasets/predict_moview_ratings/train_v2.csv')"
   ]
  },
  {
   "cell_type": "code",
   "execution_count": 3,
   "id": "funky-association",
   "metadata": {},
   "outputs": [
    {
     "data": {
      "text/html": [
       "<div>\n",
       "<style scoped>\n",
       "    .dataframe tbody tr th:only-of-type {\n",
       "        vertical-align: middle;\n",
       "    }\n",
       "\n",
       "    .dataframe tbody tr th {\n",
       "        vertical-align: top;\n",
       "    }\n",
       "\n",
       "    .dataframe thead th {\n",
       "        text-align: right;\n",
       "    }\n",
       "</style>\n",
       "<table border=\"1\" class=\"dataframe\">\n",
       "  <thead>\n",
       "    <tr style=\"text-align: right;\">\n",
       "      <th></th>\n",
       "      <th>ID</th>\n",
       "      <th>user</th>\n",
       "      <th>movie</th>\n",
       "      <th>rating</th>\n",
       "    </tr>\n",
       "  </thead>\n",
       "  <tbody>\n",
       "    <tr>\n",
       "      <th>0</th>\n",
       "      <td>610739</td>\n",
       "      <td>3704</td>\n",
       "      <td>3784</td>\n",
       "      <td>3</td>\n",
       "    </tr>\n",
       "    <tr>\n",
       "      <th>1</th>\n",
       "      <td>324753</td>\n",
       "      <td>1924</td>\n",
       "      <td>802</td>\n",
       "      <td>3</td>\n",
       "    </tr>\n",
       "    <tr>\n",
       "      <th>2</th>\n",
       "      <td>808218</td>\n",
       "      <td>4837</td>\n",
       "      <td>1387</td>\n",
       "      <td>4</td>\n",
       "    </tr>\n",
       "    <tr>\n",
       "      <th>3</th>\n",
       "      <td>133808</td>\n",
       "      <td>867</td>\n",
       "      <td>1196</td>\n",
       "      <td>4</td>\n",
       "    </tr>\n",
       "    <tr>\n",
       "      <th>4</th>\n",
       "      <td>431858</td>\n",
       "      <td>2631</td>\n",
       "      <td>3072</td>\n",
       "      <td>5</td>\n",
       "    </tr>\n",
       "  </tbody>\n",
       "</table>\n",
       "</div>"
      ],
      "text/plain": [
       "       ID  user  movie  rating\n",
       "0  610739  3704   3784       3\n",
       "1  324753  1924    802       3\n",
       "2  808218  4837   1387       4\n",
       "3  133808   867   1196       4\n",
       "4  431858  2631   3072       5"
      ]
     },
     "execution_count": 3,
     "metadata": {},
     "output_type": "execute_result"
    }
   ],
   "source": [
    "df.head()"
   ]
  },
  {
   "cell_type": "code",
   "execution_count": 4,
   "id": "spread-today",
   "metadata": {},
   "outputs": [],
   "source": [
    "import torch\n",
    "import torch.nn as nn"
   ]
  },
  {
   "cell_type": "code",
   "execution_count": 7,
   "id": "undefined-plenty",
   "metadata": {},
   "outputs": [],
   "source": [
    "a = torch.rand(5,2)"
   ]
  },
  {
   "cell_type": "code",
   "execution_count": 8,
   "id": "complex-trout",
   "metadata": {},
   "outputs": [
    {
     "data": {
      "text/plain": [
       "tensor([[0.3857, 0.4920],\n",
       "        [0.3925, 0.4585],\n",
       "        [0.5825, 0.4938],\n",
       "        [0.0319, 0.8320],\n",
       "        [0.9395, 0.6965]])"
      ]
     },
     "execution_count": 8,
     "metadata": {},
     "output_type": "execute_result"
    }
   ],
   "source": [
    "a"
   ]
  },
  {
   "cell_type": "code",
   "execution_count": 9,
   "id": "altered-utilization",
   "metadata": {},
   "outputs": [],
   "source": [
    "b = torch.rand(5,2)"
   ]
  },
  {
   "cell_type": "code",
   "execution_count": 10,
   "id": "animal-arbitration",
   "metadata": {},
   "outputs": [
    {
     "data": {
      "text/plain": [
       "tensor([[0.3869, 0.6041],\n",
       "        [0.1251, 0.5901],\n",
       "        [0.3497, 0.8315],\n",
       "        [0.5580, 0.8106],\n",
       "        [0.4460, 0.2017]])"
      ]
     },
     "execution_count": 10,
     "metadata": {},
     "output_type": "execute_result"
    }
   ],
   "source": [
    "b"
   ]
  },
  {
   "cell_type": "code",
   "execution_count": 11,
   "id": "robust-queen",
   "metadata": {},
   "outputs": [
    {
     "data": {
      "text/plain": [
       "tensor([[0.3857, 0.4920, 0.3869, 0.6041],\n",
       "        [0.3925, 0.4585, 0.1251, 0.5901],\n",
       "        [0.5825, 0.4938, 0.3497, 0.8315],\n",
       "        [0.0319, 0.8320, 0.5580, 0.8106],\n",
       "        [0.9395, 0.6965, 0.4460, 0.2017]])"
      ]
     },
     "execution_count": 11,
     "metadata": {},
     "output_type": "execute_result"
    }
   ],
   "source": [
    "torch.cat([a, b], dim=-1)"
   ]
  },
  {
   "cell_type": "code",
   "execution_count": 15,
   "id": "dirty-requirement",
   "metadata": {},
   "outputs": [
    {
     "name": "stdout",
     "output_type": "stream",
     "text": [
      "6040 3660\n"
     ]
    }
   ],
   "source": [
    "from sklearn import model_selection\n",
    "def encode_data(df, train=None):\n",
    "    \"\"\" Encodes rating data with continous user and movie ids. \n",
    "    If train is provided, encodes df with the same encoding as train.\n",
    "    \"\"\"\n",
    "    df = df.copy()\n",
    "    len_encoding = []\n",
    "    for col_name in [\"user\", \"movie\"]:\n",
    "        train_col = None\n",
    "        if train is not None:\n",
    "            train_col = train[col_name]\n",
    "        _,col,len_uniq = proc_col(df[col_name], train_col)\n",
    "        df[col_name] = col\n",
    "        df = df[df[col_name] >= 0]\n",
    "        len_encoding.append(len_uniq)\n",
    "    return df,len_encoding\n",
    "def proc_col(col, train_col=None):\n",
    "    \"\"\"Encodes a pandas column with continous ids. \n",
    "    \"\"\"\n",
    "    if train_col is not None:\n",
    "        uniq = train_col.unique()\n",
    "    else:\n",
    "        uniq = col.unique()\n",
    "    name2idx = {o:i for i,o in enumerate(uniq)}\n",
    "    return name2idx, np.array([name2idx.get(x, -1) for x in col]), len(uniq)\n",
    "\n",
    "\n",
    "df = pd.read_csv('../../../../datasets/predict_moview_ratings/train_v2.csv')\n",
    "\n",
    "df_train,df_valid = model_selection.train_test_split(df,test_size = 0.1, random_state = 42,stratify = df.rating.values)\n",
    "df_train,len_encoding = encode_data(df_train)\n",
    "# df_valid,_ = encode_data(df_valid,df_train)\n",
    "\n",
    "# train_ds = moviedataset(df_train)\n",
    "# valid_ds = moviedataset(df_valid)\n",
    "# train_dl = DataLoader(train_ds,batch_size = congif['batch_size'],shuffle=True)\n",
    "# valid_dl = DataLoader(valid_ds,batch_size = congif['batch_size'])\n",
    "print(len_encoding[0],len_encoding[1])"
   ]
  },
  {
   "cell_type": "code",
   "execution_count": null,
   "id": "scenic-cambridge",
   "metadata": {},
   "outputs": [],
   "source": []
  }
 ],
 "metadata": {
  "kernelspec": {
   "display_name": "Python 3",
   "language": "python",
   "name": "python3"
  },
  "language_info": {
   "codemirror_mode": {
    "name": "ipython",
    "version": 3
   },
   "file_extension": ".py",
   "mimetype": "text/x-python",
   "name": "python",
   "nbconvert_exporter": "python",
   "pygments_lexer": "ipython3",
   "version": "3.8.10"
  }
 },
 "nbformat": 4,
 "nbformat_minor": 5
}
