{
 "cells": [
  {
   "cell_type": "markdown",
   "id": "advanced-mother",
   "metadata": {},
   "source": [
    "Share a pretty similar idea with lightgbm and xgboost, how it handling categorical data is quite different compared two the other two methods."
   ]
  },
  {
   "cell_type": "markdown",
   "id": "informal-diversity",
   "metadata": {},
   "source": [
    "From ChatGPT\n",
    "\n",
    "CatBoost is another popular open-source gradient boosting library that is similar to LightGBM and XGBoost. While all three libraries share the same underlying idea of gradient boosting, they differ in several ways, including their unique features and techniques:\n",
    "\n",
    "    Categorical Feature Handling:\n",
    "        LightGBM: LightGBM has a built-in feature to handle categorical features without requiring one-hot encoding. It uses the \"Histogram-based Algorithm for Categorical Feature (GOSS)\" technique, which allows it to efficiently handle categorical data during the split finding process.\n",
    "        CatBoost: CatBoost is specifically designed to handle categorical features effectively. It uses a combination of ordered boosting and a novel method called \"Symmetric Two-Side Sampling\" to handle categorical variables without the need for manual preprocessing or one-hot encoding.\n",
    "\n",
    "    Efficiency and Speed:\n",
    "        LightGBM: LightGBM is known for its high speed and efficient memory usage. It uses techniques like \"Gradient-based One-Side Sampling (GOSS)\" and \"Exclusive Feature Bundling (EFB)\" to achieve faster training times and better memory optimization.\n",
    "        CatBoost: CatBoost is also designed for efficiency and speed, and it employs strategies like oblivious trees and ordered boosting to achieve faster training and prediction times. It also automatically selects the best preprocessing techniques, which can further improve efficiency.\n",
    "\n",
    "    Handling Missing Values:\n",
    "        LightGBM: LightGBM supports handling missing values by default during training, and it has the option to handle missing values for categorical features using \"Zero As Missing (ZAM)\" technique.\n",
    "        CatBoost: CatBoost can handle missing values in both categorical and numerical features by utilizing a default encoding method for missing values. It treats missing values as a separate category.\n",
    "\n",
    "    Model Interpretability:\n",
    "        LightGBM: LightGBM provides a feature importances ranking, but it does not have built-in support for model interpretability techniques like SHAP (SHapley Additive exPlanations) values.\n",
    "        CatBoost: CatBoost offers support for model interpretability using SHAP values, which can help in understanding the contribution of each feature to individual predictions.\n",
    "\n",
    "Overall, CatBoost, LightGBM, and GOSS (which is a part of LightGBM) are all powerful gradient boosting libraries with different strengths and techniques. The best choice among them depends on the specific use case, the nature of the data, and the trade-offs between speed, efficiency, and interpretability that are desired for the task at hand."
   ]
  },
  {
   "cell_type": "code",
   "execution_count": null,
   "id": "broken-swing",
   "metadata": {},
   "outputs": [],
   "source": [
    "cat_model = cat.CatBoostRegressor(\n",
    "    iterations=2000,\n",
    "    loss_function=\"MAPE\",\n",
    "    verbose=0,\n",
    "    grow_policy='SymmetricTree',\n",
    "    learning_rate=0.035,\n",
    "    colsample_bylevel=0.8,\n",
    "    max_depth=5,\n",
    "    l2_leaf_reg=0.2,\n",
    "    subsample=0.70,\n",
    "    max_bin=4096,\n",
    ")\n",
    "cat_model.fit(\n",
    "        df.loc[train_indices, features],\n",
    "        df.loc[train_indices, 'target'])\n",
    "val_preds = cat_model.predict(df.loc[valid_indices, features])"
   ]
  }
 ],
 "metadata": {
  "kernelspec": {
   "display_name": "Python 3",
   "language": "python",
   "name": "python3"
  },
  "language_info": {
   "codemirror_mode": {
    "name": "ipython",
    "version": 3
   },
   "file_extension": ".py",
   "mimetype": "text/x-python",
   "name": "python",
   "nbconvert_exporter": "python",
   "pygments_lexer": "ipython3",
   "version": "3.8.10"
  }
 },
 "nbformat": 4,
 "nbformat_minor": 5
}
