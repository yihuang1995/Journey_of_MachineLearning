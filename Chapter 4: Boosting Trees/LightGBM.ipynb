{
 "cells": [
  {
   "cell_type": "code",
   "execution_count": 1,
   "id": "received-brave",
   "metadata": {},
   "outputs": [],
   "source": [
    "import pandas as pd\n",
    "import numpy as np\n",
    "import lightgbm as lgb\n",
    "from sklearn.metrics import accuracy_score"
   ]
  },
  {
   "cell_type": "markdown",
   "id": "advisory-editor",
   "metadata": {},
   "source": [
    "My personal experience is that LightGBM's performance is slightly better than xgboost, but always trust your validation score!\n",
    "\n",
    "Differences:\n",
    "* Leaf wise tree growth\n",
    "* Histogram the features value (xgboost now also has this)\n",
    "* Gradient based one side sampling (GOSS): higher weight for high gradient data points in order to learn the weak part, let the model learn more important parts first\n",
    "* Memory efficient"
   ]
  },
  {
   "cell_type": "markdown",
   "id": "excellent-poison",
   "metadata": {},
   "source": [
    "**num_leaves**\n",
    "* Main parameter to control\n",
    "* Lower value prevent overfitting\n",
    "\n",
    "**min_child_samples**\n",
    "* The minimum number of samples (data) to group into a leaf. \n",
    "* The parameter can greatly assist with overfitting: larger sample sizes per leaf will reduce overfitting (but may lead to under-fitting).\n",
    "\n",
    "**max_depth**\n",
    "* Tree depth\n",
    "\n",
    "**scale_pos_weight**\n",
    "* Typically sample_pos_weight = number of negative samples / number of positive samples.\n",
    "\n",
    "**max_bin**\n",
    "* The maximum numbers of bins that feature values are bucketed in. \n",
    "* A smaller max_binreduces overfitting.\n",
    "\n",
    "**min_child_weight**\n",
    "* Similar as xgboost\n",
    "* Larger values reduce overfitting.\n",
    "\n",
    "**bagging_fraction/bagging_freq**\n",
    "* Enables bagging (subsampling) of the training data. \n",
    "* Both values need to be set for bagging to be used. \n",
    "* The frequency controls how often (iteration) bagging is used. \n",
    "* Smaller fractions and frequencies reduce overfitting.\n",
    "\n",
    "**feature_fraction**\n",
    "* Subsampling of features used for training\n",
    "\n",
    "**lambda_l1/l2**\n",
    "* Regularization term\n",
    "\n",
    "**learning_rate**\n"
   ]
  },
  {
   "cell_type": "code",
   "execution_count": null,
   "id": "double-designer",
   "metadata": {},
   "outputs": [],
   "source": [
    "params = {\n",
    "'n_iter': 300,\n",
    "'boosting_type': 'dart',\n",
    "'verbosity': -1,\n",
    "'objective': 'l1',\n",
    "'random_state': 42,\n",
    "'colsample_bytree': 0.8841279649367693,\n",
    "'colsample_bynode': 0.10142964450634374,\n",
    "'max_depth': 8,\n",
    "'learning_rate': 0.003647749926797374,\n",
    "'lambda_l2': 0.5,\n",
    "'num_leaves': 61,\n",
    "\"seed\": 42,\n",
    "'min_data_in_leaf': 213}\n",
    "\n",
    "lgb_model = lgb.LGBMRegressor(**params)\n",
    "lgb_model.fit(\n",
    "        df.loc[train_indices, features],\n",
    "        df.loc[train_indices, 'target'])\n",
    "val_preds = lgb_model.predict(df.loc[valid_indices, features])"
   ]
  }
 ],
 "metadata": {
  "kernelspec": {
   "display_name": "Python 3",
   "language": "python",
   "name": "python3"
  },
  "language_info": {
   "codemirror_mode": {
    "name": "ipython",
    "version": 3
   },
   "file_extension": ".py",
   "mimetype": "text/x-python",
   "name": "python",
   "nbconvert_exporter": "python",
   "pygments_lexer": "ipython3",
   "version": "3.8.10"
  }
 },
 "nbformat": 4,
 "nbformat_minor": 5
}
