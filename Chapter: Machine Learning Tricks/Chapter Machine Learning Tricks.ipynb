{
 "cells": [
  {
   "cell_type": "code",
   "execution_count": 3,
   "id": "damaged-prince",
   "metadata": {},
   "outputs": [],
   "source": [
    "import pandas as pd\n",
    "import numpy as np"
   ]
  },
  {
   "cell_type": "markdown",
   "id": "preceding-toolbox",
   "metadata": {},
   "source": [
    "## Trick 1: Numeric feature discretization (bucketing)"
   ]
  },
  {
   "cell_type": "markdown",
   "id": "center-shift",
   "metadata": {},
   "source": [
    "What is feature discretization? - Transform numeric features into categorical features.\n",
    "\n",
    "Advantages: \n",
    "* Faster computation speed: optimization speed and  spped\n",
    "* Prevent overfitting: more \n",
    "* Add robustness: easy to handle outliers\n",
    "\n",
    "Methods:\n",
    "* Quantile bucketing \n",
    "* Bucketing based on domain knowledge"
   ]
  },
  {
   "cell_type": "markdown",
   "id": "future-invite",
   "metadata": {},
   "source": [
    "### By quantile"
   ]
  },
  {
   "cell_type": "code",
   "execution_count": 2,
   "id": "funky-steering",
   "metadata": {},
   "outputs": [],
   "source": [
    "df = pd.DataFrame({\n",
    "   'age': [2, 67, 40, 32, 4, 15, 82, 99, 26, 30, 50, 78]\n",
    "})\n",
    "df['age_group'] = pd.qcut(df['age'], 3)"
   ]
  },
  {
   "cell_type": "code",
   "execution_count": 3,
   "id": "finnish-writing",
   "metadata": {},
   "outputs": [
    {
     "data": {
      "text/html": [
       "<div>\n",
       "<style scoped>\n",
       "    .dataframe tbody tr th:only-of-type {\n",
       "        vertical-align: middle;\n",
       "    }\n",
       "\n",
       "    .dataframe tbody tr th {\n",
       "        vertical-align: top;\n",
       "    }\n",
       "\n",
       "    .dataframe thead th {\n",
       "        text-align: right;\n",
       "    }\n",
       "</style>\n",
       "<table border=\"1\" class=\"dataframe\">\n",
       "  <thead>\n",
       "    <tr style=\"text-align: right;\">\n",
       "      <th></th>\n",
       "      <th>age</th>\n",
       "      <th>age_group</th>\n",
       "    </tr>\n",
       "  </thead>\n",
       "  <tbody>\n",
       "    <tr>\n",
       "      <th>0</th>\n",
       "      <td>2</td>\n",
       "      <td>(1.999, 28.667]</td>\n",
       "    </tr>\n",
       "    <tr>\n",
       "      <th>1</th>\n",
       "      <td>67</td>\n",
       "      <td>(55.667, 99.0]</td>\n",
       "    </tr>\n",
       "    <tr>\n",
       "      <th>2</th>\n",
       "      <td>40</td>\n",
       "      <td>(28.667, 55.667]</td>\n",
       "    </tr>\n",
       "    <tr>\n",
       "      <th>3</th>\n",
       "      <td>32</td>\n",
       "      <td>(28.667, 55.667]</td>\n",
       "    </tr>\n",
       "    <tr>\n",
       "      <th>4</th>\n",
       "      <td>4</td>\n",
       "      <td>(1.999, 28.667]</td>\n",
       "    </tr>\n",
       "    <tr>\n",
       "      <th>5</th>\n",
       "      <td>15</td>\n",
       "      <td>(1.999, 28.667]</td>\n",
       "    </tr>\n",
       "    <tr>\n",
       "      <th>6</th>\n",
       "      <td>82</td>\n",
       "      <td>(55.667, 99.0]</td>\n",
       "    </tr>\n",
       "    <tr>\n",
       "      <th>7</th>\n",
       "      <td>99</td>\n",
       "      <td>(55.667, 99.0]</td>\n",
       "    </tr>\n",
       "    <tr>\n",
       "      <th>8</th>\n",
       "      <td>26</td>\n",
       "      <td>(1.999, 28.667]</td>\n",
       "    </tr>\n",
       "    <tr>\n",
       "      <th>9</th>\n",
       "      <td>30</td>\n",
       "      <td>(28.667, 55.667]</td>\n",
       "    </tr>\n",
       "    <tr>\n",
       "      <th>10</th>\n",
       "      <td>50</td>\n",
       "      <td>(28.667, 55.667]</td>\n",
       "    </tr>\n",
       "    <tr>\n",
       "      <th>11</th>\n",
       "      <td>78</td>\n",
       "      <td>(55.667, 99.0]</td>\n",
       "    </tr>\n",
       "  </tbody>\n",
       "</table>\n",
       "</div>"
      ],
      "text/plain": [
       "    age         age_group\n",
       "0     2   (1.999, 28.667]\n",
       "1    67    (55.667, 99.0]\n",
       "2    40  (28.667, 55.667]\n",
       "3    32  (28.667, 55.667]\n",
       "4     4   (1.999, 28.667]\n",
       "5    15   (1.999, 28.667]\n",
       "6    82    (55.667, 99.0]\n",
       "7    99    (55.667, 99.0]\n",
       "8    26   (1.999, 28.667]\n",
       "9    30  (28.667, 55.667]\n",
       "10   50  (28.667, 55.667]\n",
       "11   78    (55.667, 99.0]"
      ]
     },
     "execution_count": 3,
     "metadata": {},
     "output_type": "execute_result"
    }
   ],
   "source": [
    "df"
   ]
  },
  {
   "cell_type": "markdown",
   "id": "infrared-bryan",
   "metadata": {},
   "source": [
    "### Customized"
   ]
  },
  {
   "cell_type": "code",
   "execution_count": 6,
   "id": "suburban-liberty",
   "metadata": {},
   "outputs": [],
   "source": [
    "bins = np.array([0,3,12,18,45,60,100])"
   ]
  },
  {
   "cell_type": "code",
   "execution_count": 7,
   "id": "deadly-conservation",
   "metadata": {},
   "outputs": [
    {
     "data": {
      "text/html": [
       "<div>\n",
       "<style scoped>\n",
       "    .dataframe tbody tr th:only-of-type {\n",
       "        vertical-align: middle;\n",
       "    }\n",
       "\n",
       "    .dataframe tbody tr th {\n",
       "        vertical-align: top;\n",
       "    }\n",
       "\n",
       "    .dataframe thead th {\n",
       "        text-align: right;\n",
       "    }\n",
       "</style>\n",
       "<table border=\"1\" class=\"dataframe\">\n",
       "  <thead>\n",
       "    <tr style=\"text-align: right;\">\n",
       "      <th></th>\n",
       "      <th>age</th>\n",
       "      <th>age_group</th>\n",
       "    </tr>\n",
       "  </thead>\n",
       "  <tbody>\n",
       "    <tr>\n",
       "      <th>0</th>\n",
       "      <td>2</td>\n",
       "      <td>(0, 3]</td>\n",
       "    </tr>\n",
       "    <tr>\n",
       "      <th>1</th>\n",
       "      <td>67</td>\n",
       "      <td>(60, 100]</td>\n",
       "    </tr>\n",
       "    <tr>\n",
       "      <th>2</th>\n",
       "      <td>40</td>\n",
       "      <td>(18, 45]</td>\n",
       "    </tr>\n",
       "    <tr>\n",
       "      <th>3</th>\n",
       "      <td>32</td>\n",
       "      <td>(18, 45]</td>\n",
       "    </tr>\n",
       "    <tr>\n",
       "      <th>4</th>\n",
       "      <td>4</td>\n",
       "      <td>(3, 12]</td>\n",
       "    </tr>\n",
       "    <tr>\n",
       "      <th>5</th>\n",
       "      <td>15</td>\n",
       "      <td>(12, 18]</td>\n",
       "    </tr>\n",
       "    <tr>\n",
       "      <th>6</th>\n",
       "      <td>82</td>\n",
       "      <td>(60, 100]</td>\n",
       "    </tr>\n",
       "    <tr>\n",
       "      <th>7</th>\n",
       "      <td>99</td>\n",
       "      <td>(60, 100]</td>\n",
       "    </tr>\n",
       "    <tr>\n",
       "      <th>8</th>\n",
       "      <td>26</td>\n",
       "      <td>(18, 45]</td>\n",
       "    </tr>\n",
       "    <tr>\n",
       "      <th>9</th>\n",
       "      <td>30</td>\n",
       "      <td>(18, 45]</td>\n",
       "    </tr>\n",
       "    <tr>\n",
       "      <th>10</th>\n",
       "      <td>50</td>\n",
       "      <td>(45, 60]</td>\n",
       "    </tr>\n",
       "    <tr>\n",
       "      <th>11</th>\n",
       "      <td>78</td>\n",
       "      <td>(60, 100]</td>\n",
       "    </tr>\n",
       "  </tbody>\n",
       "</table>\n",
       "</div>"
      ],
      "text/plain": [
       "    age  age_group\n",
       "0     2     (0, 3]\n",
       "1    67  (60, 100]\n",
       "2    40   (18, 45]\n",
       "3    32   (18, 45]\n",
       "4     4    (3, 12]\n",
       "5    15   (12, 18]\n",
       "6    82  (60, 100]\n",
       "7    99  (60, 100]\n",
       "8    26   (18, 45]\n",
       "9    30   (18, 45]\n",
       "10   50   (45, 60]\n",
       "11   78  (60, 100]"
      ]
     },
     "execution_count": 7,
     "metadata": {},
     "output_type": "execute_result"
    }
   ],
   "source": [
    "df['age_group'] = pd.cut(df['age'], bins)\n",
    "df"
   ]
  },
  {
   "cell_type": "markdown",
   "id": "bulgarian-repository",
   "metadata": {},
   "source": [
    "## Trick 2: Log Transformation "
   ]
  },
  {
   "cell_type": "markdown",
   "id": "median-conspiracy",
   "metadata": {},
   "source": [
    "What is feature discretization? - convert a skewed distribution to a normal distribution\n",
    "\n",
    "Advantages: \n",
    "* Better prediction power dealing with skewed data (e.g. revenue)\n",
    "* Robustness: easier dealing with outliers"
   ]
  },
  {
   "cell_type": "code",
   "execution_count": 11,
   "id": "bright-packet",
   "metadata": {},
   "outputs": [
    {
     "data": {
      "text/html": [
       "<div>\n",
       "<style scoped>\n",
       "    .dataframe tbody tr th:only-of-type {\n",
       "        vertical-align: middle;\n",
       "    }\n",
       "\n",
       "    .dataframe tbody tr th {\n",
       "        vertical-align: top;\n",
       "    }\n",
       "\n",
       "    .dataframe thead th {\n",
       "        text-align: right;\n",
       "    }\n",
       "</style>\n",
       "<table border=\"1\" class=\"dataframe\">\n",
       "  <thead>\n",
       "    <tr style=\"text-align: right;\">\n",
       "      <th></th>\n",
       "      <th>income</th>\n",
       "      <th>income_transformed</th>\n",
       "    </tr>\n",
       "  </thead>\n",
       "  <tbody>\n",
       "    <tr>\n",
       "      <th>0</th>\n",
       "      <td>10.0</td>\n",
       "      <td>2.302585</td>\n",
       "    </tr>\n",
       "    <tr>\n",
       "      <th>1</th>\n",
       "      <td>5.0</td>\n",
       "      <td>1.609438</td>\n",
       "    </tr>\n",
       "    <tr>\n",
       "      <th>2</th>\n",
       "      <td>10000.0</td>\n",
       "      <td>9.210340</td>\n",
       "    </tr>\n",
       "    <tr>\n",
       "      <th>3</th>\n",
       "      <td>300.0</td>\n",
       "      <td>5.703782</td>\n",
       "    </tr>\n",
       "    <tr>\n",
       "      <th>4</th>\n",
       "      <td>500.0</td>\n",
       "      <td>6.214608</td>\n",
       "    </tr>\n",
       "    <tr>\n",
       "      <th>5</th>\n",
       "      <td>0.5</td>\n",
       "      <td>-0.693147</td>\n",
       "    </tr>\n",
       "    <tr>\n",
       "      <th>6</th>\n",
       "      <td>5000.0</td>\n",
       "      <td>8.517193</td>\n",
       "    </tr>\n",
       "    <tr>\n",
       "      <th>7</th>\n",
       "      <td>80000.0</td>\n",
       "      <td>11.289782</td>\n",
       "    </tr>\n",
       "  </tbody>\n",
       "</table>\n",
       "</div>"
      ],
      "text/plain": [
       "    income  income_transformed\n",
       "0     10.0            2.302585\n",
       "1      5.0            1.609438\n",
       "2  10000.0            9.210340\n",
       "3    300.0            5.703782\n",
       "4    500.0            6.214608\n",
       "5      0.5           -0.693147\n",
       "6   5000.0            8.517193\n",
       "7  80000.0           11.289782"
      ]
     },
     "execution_count": 11,
     "metadata": {},
     "output_type": "execute_result"
    }
   ],
   "source": [
    "df = pd.DataFrame({\n",
    "   'income': [10, 5, 10000, 300, 500, 0.5, 5000, 80000]\n",
    "})\n",
    "df['income_transformed'] = np.log(df['income'])\n",
    "df"
   ]
  },
  {
   "cell_type": "markdown",
   "id": "returning-distance",
   "metadata": {},
   "source": [
    "## Trick 3: Pseudo labeling"
   ]
  },
  {
   "cell_type": "markdown",
   "id": "universal-leisure",
   "metadata": {},
   "source": [
    "What is feature discretization? - Semi-supervised learning, generate labels for unlabeled data then train the model, frequently used in computer vision tasks.\n",
    "\n",
    "Advantages: \n",
    "* When you have a small amount of labeld data and large amount of unlabeled data\n",
    "* PAutomatically label data with minimal cost \n",
    "\n",
    "Methods:\n",
    "* Quantile bucketing \n",
    "* Bucketing based on domain knowledge"
   ]
  },
  {
   "cell_type": "markdown",
   "id": "educational-technical",
   "metadata": {},
   "source": [
    "## Trick 4: Regularization"
   ]
  },
  {
   "cell_type": "markdown",
   "id": "stock-property",
   "metadata": {},
   "source": [
    "Goal: prevent overfitting and improve the generalization performance. L1 regularization can shrink the weights of less important features towards zero, effectively performing feature selection \n",
    "* L1: Lasso, Manhatan norm\n",
    "* L2: Ridge, Euclidean norm\n",
    "* Combination of L1 and L2: Elastic Net, weighted combination of L1 and L2\n",
    "* Dropout in neural network\n",
    "* Early stopping based on training and validation performance"
   ]
  },
  {
   "cell_type": "markdown",
   "id": "noble-photograph",
   "metadata": {},
   "source": [
    "## Trick 5: Target Encoding"
   ]
  },
  {
   "cell_type": "markdown",
   "id": "super-priority",
   "metadata": {},
   "source": [
    "Also called mean encoding, we replace each category of a variable, by the mean value of the target for the observations that show a certain category. \n",
    "\n",
    "Key idea: Monotonic relationships between variable and target tend to improve linear model performance.\n",
    "\n",
    "cons: potential data leakage, overfitting"
   ]
  },
  {
   "cell_type": "code",
   "execution_count": 4,
   "id": "challenging-terrorist",
   "metadata": {},
   "outputs": [
    {
     "data": {
      "text/html": [
       "<div>\n",
       "<style scoped>\n",
       "    .dataframe tbody tr th:only-of-type {\n",
       "        vertical-align: middle;\n",
       "    }\n",
       "\n",
       "    .dataframe tbody tr th {\n",
       "        vertical-align: top;\n",
       "    }\n",
       "\n",
       "    .dataframe thead th {\n",
       "        text-align: right;\n",
       "    }\n",
       "</style>\n",
       "<table border=\"1\" class=\"dataframe\">\n",
       "  <thead>\n",
       "    <tr style=\"text-align: right;\">\n",
       "      <th></th>\n",
       "      <th>gender</th>\n",
       "      <th>value</th>\n",
       "      <th>gender_encoded</th>\n",
       "    </tr>\n",
       "  </thead>\n",
       "  <tbody>\n",
       "    <tr>\n",
       "      <th>0</th>\n",
       "      <td>male</td>\n",
       "      <td>50</td>\n",
       "      <td>45.0</td>\n",
       "    </tr>\n",
       "    <tr>\n",
       "      <th>1</th>\n",
       "      <td>male</td>\n",
       "      <td>40</td>\n",
       "      <td>45.0</td>\n",
       "    </tr>\n",
       "    <tr>\n",
       "      <th>2</th>\n",
       "      <td>female</td>\n",
       "      <td>45</td>\n",
       "      <td>52.5</td>\n",
       "    </tr>\n",
       "    <tr>\n",
       "      <th>3</th>\n",
       "      <td>female</td>\n",
       "      <td>60</td>\n",
       "      <td>52.5</td>\n",
       "    </tr>\n",
       "  </tbody>\n",
       "</table>\n",
       "</div>"
      ],
      "text/plain": [
       "   gender  value  gender_encoded\n",
       "0    male     50            45.0\n",
       "1    male     40            45.0\n",
       "2  female     45            52.5\n",
       "3  female     60            52.5"
      ]
     },
     "execution_count": 4,
     "metadata": {},
     "output_type": "execute_result"
    }
   ],
   "source": [
    "data = {\n",
    "  \"gender\": ['male', 'male', 'female','female'],\n",
    "  \"value\": [50, 40, 45, 60]\n",
    "}\n",
    "data = pd.DataFrame(data)\n",
    "data[\"gender_encoded\"] = data.groupby(\"gender\")[\"value\"].transform(\"mean\")\n",
    "data"
   ]
  },
  {
   "cell_type": "markdown",
   "id": "black-suffering",
   "metadata": {},
   "source": [
    "category_encoders's TargetEncoder use different method to encode categorical variables"
   ]
  },
  {
   "cell_type": "code",
   "execution_count": 8,
   "id": "treated-crossing",
   "metadata": {},
   "outputs": [
    {
     "data": {
      "text/html": [
       "<div>\n",
       "<style scoped>\n",
       "    .dataframe tbody tr th:only-of-type {\n",
       "        vertical-align: middle;\n",
       "    }\n",
       "\n",
       "    .dataframe tbody tr th {\n",
       "        vertical-align: top;\n",
       "    }\n",
       "\n",
       "    .dataframe thead th {\n",
       "        text-align: right;\n",
       "    }\n",
       "</style>\n",
       "<table border=\"1\" class=\"dataframe\">\n",
       "  <thead>\n",
       "    <tr style=\"text-align: right;\">\n",
       "      <th></th>\n",
       "      <th>gender</th>\n",
       "      <th>value</th>\n",
       "      <th>gender_encoded</th>\n",
       "    </tr>\n",
       "  </thead>\n",
       "  <tbody>\n",
       "    <tr>\n",
       "      <th>0</th>\n",
       "      <td>male</td>\n",
       "      <td>50</td>\n",
       "      <td>48.218059</td>\n",
       "    </tr>\n",
       "    <tr>\n",
       "      <th>1</th>\n",
       "      <td>male</td>\n",
       "      <td>40</td>\n",
       "      <td>48.218059</td>\n",
       "    </tr>\n",
       "    <tr>\n",
       "      <th>2</th>\n",
       "      <td>female</td>\n",
       "      <td>45</td>\n",
       "      <td>49.281941</td>\n",
       "    </tr>\n",
       "    <tr>\n",
       "      <th>3</th>\n",
       "      <td>female</td>\n",
       "      <td>60</td>\n",
       "      <td>49.281941</td>\n",
       "    </tr>\n",
       "  </tbody>\n",
       "</table>\n",
       "</div>"
      ],
      "text/plain": [
       "   gender  value  gender_encoded\n",
       "0    male     50       48.218059\n",
       "1    male     40       48.218059\n",
       "2  female     45       49.281941\n",
       "3  female     60       49.281941"
      ]
     },
     "execution_count": 8,
     "metadata": {},
     "output_type": "execute_result"
    }
   ],
   "source": [
    "# from sklearn.preprocessing import TargetEncoder (archived)\n",
    "from category_encoders import *\n",
    "data = {\n",
    "  \"gender\": ['male', 'male', 'female','female'],\n",
    "  \"value\": [50, 40, 45, 60]\n",
    "}\n",
    "data = pd.DataFrame(data)\n",
    "\n",
    "encoder = TargetEncoder()\n",
    "data[\"gender_encoded\"] = encoder.fit_transform(data[\"gender\"], data[\"value\"])\n",
    "data"
   ]
  },
  {
   "cell_type": "markdown",
   "id": "incredible-opinion",
   "metadata": {},
   "source": [
    "## XGBoost Tricks"
   ]
  },
  {
   "cell_type": "markdown",
   "id": "varied-vaccine",
   "metadata": {},
   "source": [
    "https://www.kaggle.com/general/197466"
   ]
  },
  {
   "cell_type": "code",
   "execution_count": null,
   "id": "prescription-victory",
   "metadata": {},
   "outputs": [],
   "source": []
  }
 ],
 "metadata": {
  "kernelspec": {
   "display_name": "Python 3",
   "language": "python",
   "name": "python3"
  },
  "language_info": {
   "codemirror_mode": {
    "name": "ipython",
    "version": 3
   },
   "file_extension": ".py",
   "mimetype": "text/x-python",
   "name": "python",
   "nbconvert_exporter": "python",
   "pygments_lexer": "ipython3",
   "version": "3.8.10"
  }
 },
 "nbformat": 4,
 "nbformat_minor": 5
}
