{
 "cells": [
  {
   "cell_type": "markdown",
   "id": "e53c16da",
   "metadata": {},
   "source": [
    "# Chapter2: Logistic Regression"
   ]
  },
  {
   "cell_type": "markdown",
   "id": "af3149ea",
   "metadata": {},
   "source": [
    "<b>Logistic regression</b> class No.2 of machine learning, specifically designed for solving classification problems. The fundamental principle behind logistic regression lies in its ability to estimate the probability of a certain event occurring. By modeling the relationship between a set of independent variables and the probability of an outcome, logistic regression can effectively predict the likelihood of a particular class being assigned to a given data point. \n",
    "\n",
    "The basic logistic regression is for binary classification. For multi-class classification problem, we need to use multinomial logistic regression"
   ]
  },
  {
   "cell_type": "markdown",
   "id": "0bf6f982",
   "metadata": {},
   "source": [
    "## Basic Assumptions of Linear Regression"
   ]
  },
  {
   "cell_type": "markdown",
   "id": "851b2da1",
   "metadata": {},
   "source": [
    "- Binary outcome: two type of X\n",
    "- Independence of observations: non related, no duplicated X\n",
    "- Linearity in the logit: X and Y relationship\n",
    "- No multicollinearity: independent X\n",
    "- Adequate sample size: enough samples\n",
    "\n",
    "Sigmoid Function:\n",
    "$$f(x) = \\frac{1}{1 + e^{-g(x)}}$$"
   ]
  },
  {
   "cell_type": "markdown",
   "id": "f1ee87f8",
   "metadata": {},
   "source": [
    "## Using stats Package"
   ]
  },
  {
   "cell_type": "code",
   "execution_count": null,
   "id": "31dfcabc",
   "metadata": {},
   "outputs": [],
   "source": [
    "import statsmodels.formula.api as smf\n",
    "#df = ...\n",
    "#fit logistic regression model\n",
    "model = smf.logit('y ~ x1 + x2', data=df).fit()\n",
    "model.summary()"
   ]
  },
  {
   "cell_type": "markdown",
   "id": "a4bca19b",
   "metadata": {},
   "source": [
    "## Using Sklearn"
   ]
  },
  {
   "cell_type": "code",
   "execution_count": 3,
   "id": "2b2dd43b",
   "metadata": {},
   "outputs": [
    {
     "name": "stdout",
     "output_type": "stream",
     "text": [
      "[0 0 0 1 1 1 1 1 1 1]\n",
      "[-1.04608067]\n",
      "[[0.51491375]]\n",
      "Accuraty 0.9\n",
      "[[3 1]\n",
      " [0 6]]\n"
     ]
    }
   ],
   "source": [
    "from sklearn.linear_model import LogisticRegression\n",
    "from sklearn.metrics import classification_report, confusion_matrix\n",
    "import numpy as np\n",
    "x = np.arange(10).reshape(-1, 1)\n",
    "y = np.array([0, 0, 0, 0, 1, 1, 1, 1, 1, 1])\n",
    "model = LogisticRegression(solver='liblinear', random_state=0)\n",
    "model.fit(x, y)\n",
    "print(model.predict(x))\n",
    "print(model.intercept_)\n",
    "print(model.coef_)\n",
    "print('Accuraty',model.score(x, y))\n",
    "print(confusion_matrix(y, model.predict(x)))"
   ]
  },
  {
   "cell_type": "code",
   "execution_count": 10,
   "id": "3c090b8e",
   "metadata": {},
   "outputs": [
    {
     "data": {
      "image/png": "[encoded data removed]",
      "text/plain": [
       "<Figure size 432x432 with 1 Axes>"
      ]
     },
     "metadata": {
      "needs_background": "light"
     },
     "output_type": "display_data"
    }
   ],
   "source": [
    "import matplotlib.pyplot as plt\n",
    "cm = confusion_matrix(y, model.predict(x))\n",
    "\n",
    "fig, ax = plt.subplots(figsize=(6, 6))\n",
    "ax.imshow(cm)\n",
    "ax.grid(False)\n",
    "ax.xaxis.set(ticks=(0, 1), ticklabels=('Predicted 0', 'Predicted 1'))\n",
    "ax.yaxis.set(ticks=(0, 1), ticklabels=('Actual 0', 'Actual 1'))\n",
    "ax.set_ylim(1.5, -0.5)\n",
    "for i in range(2):\n",
    "    for j in range(2):\n",
    "        ax.text(j, i, cm[i, j], ha='center', va='center', color='red',size = 30)\n",
    "plt.show()"
   ]
  },
  {
   "cell_type": "markdown",
   "id": "997e38fa",
   "metadata": {},
   "source": [
    "## From Scratch"
   ]
  },
  {
   "cell_type": "code",
   "execution_count": 27,
   "id": "90f80ef1",
   "metadata": {},
   "outputs": [],
   "source": [
    "class LogisticRegression():                                     \n",
    "    def __init__(self, learning_rate, iterations):                \n",
    "        self.learning_rate = learning_rate                          \n",
    "        self.iterations = iterations                                \n",
    "    \n",
    "    #Function for training\n",
    "    def fit(self, X, y):                             \n",
    "        self.X = X                                    \n",
    "        self.y = y                                        \n",
    "        self.num_train = X.shape[0]                          \n",
    "        self.num_features = X.shape[1]                       \n",
    "        self.W, self.b = np.zeros(self.num_features), 0             \n",
    "\n",
    "        for i in range(self.iterations):\n",
    "            self.update_weights()\n",
    "        return \n",
    "    \n",
    "    def sigmoid(self,x):\n",
    "        sig = 1/(1+np.exp(-x))\n",
    "        return sig\n",
    "    # Function for updating weights. \n",
    "    def update_weights(self):                                    \n",
    "        pred = self.sigmoid(self.X.dot(self.W) + self.b)\n",
    "        diff = (pred - self.y.T)\n",
    "        diff = np.reshape(diff, self.num_train)\n",
    "        # gradients for weights\n",
    "        dW = np.dot(self.X.T, diff) / self.num_train \n",
    "        # gradients for biases\n",
    "        db = np.sum(pred) / self.num_train          \n",
    "        # update \n",
    "        self.W = self.W - self.learning_rate * dW                  \n",
    "        self.b = self.b - self.learning_rate * db                  \n",
    "        return self\n",
    "    # Function for Predictions.   \n",
    "    def predict(self, X):                                        \n",
    "        prob = self.sigmoid(X.dot(self.W) + self.b)\n",
    "        Y = np.where(prob > 0.5, 1, 0)\n",
    "        return prob, Y"
   ]
  },
  {
   "cell_type": "code",
   "execution_count": 30,
   "id": "11119f29",
   "metadata": {},
   "outputs": [],
   "source": [
    "x = np.arange(10).reshape(-1, 1)\n",
    "y = np.array([0, 0, 0, 0, 1, 1, 1, 1, 1, 1])\n",
    "model = LogisticRegression(0.01,1000)\n",
    "model.fit(x,y)"
   ]
  },
  {
   "cell_type": "code",
   "execution_count": 31,
   "id": "5d5a216b",
   "metadata": {},
   "outputs": [
    {
     "data": {
      "text/plain": [
       "(array([0.0019876 , 0.01048092, 0.05332818, 0.23053153, 0.61440412,\n",
       "        0.89445133, 0.97829383, 0.99584545, 0.99921619, 0.99985253]),\n",
       " array([0, 0, 0, 0, 1, 1, 1, 1, 1, 1]))"
      ]
     },
     "execution_count": 31,
     "metadata": {},
     "output_type": "execute_result"
    }
   ],
   "source": [
    "model.predict(x)"
   ]
  },
  {
   "cell_type": "code",
   "execution_count": 34,
   "id": "8b2f9ee4",
   "metadata": {},
   "outputs": [
    {
     "data": {
      "image/png": "[encoded data removed]",
      "text/plain": [
       "<Figure size 432x432 with 1 Axes>"
      ]
     },
     "metadata": {
      "needs_background": "light"
     },
     "output_type": "display_data"
    }
   ],
   "source": [
    "cm = confusion_matrix(y, model.predict(x)[1])\n",
    "\n",
    "fig, ax = plt.subplots(figsize=(6, 6))\n",
    "ax.imshow(cm)\n",
    "ax.grid(False)\n",
    "ax.xaxis.set(ticks=(0, 1), ticklabels=('Predicted 0', 'Predicted 1'))\n",
    "ax.yaxis.set(ticks=(0, 1), ticklabels=('Actual 0', 'Actual 1'))\n",
    "ax.set_ylim(1.5, -0.5)\n",
    "for i in range(2):\n",
    "    for j in range(2):\n",
    "        ax.text(j, i, cm[i, j], ha='center', va='center', color='red',size = 30)\n",
    "plt.show()"
   ]
  },
  {
   "cell_type": "code",
   "execution_count": null,
   "id": "filled-leader",
   "metadata": {},
   "outputs": [],
   "source": []
  }
 ],
 "metadata": {
  "kernelspec": {
   "display_name": "Python 3",
   "language": "python",
   "name": "python3"
  },
  "language_info": {
   "codemirror_mode": {
    "name": "ipython",
    "version": 3
   },
   "file_extension": ".py",
   "mimetype": "text/x-python",
   "name": "python",
   "nbconvert_exporter": "python",
   "pygments_lexer": "ipython3",
   "version": "3.8.10"
  },
  "toc": {
   "base_numbering": 1,
   "nav_menu": {},
   "number_sections": false,
   "sideBar": true,
   "skip_h1_title": false,
   "title_cell": "Table of Contents",
   "title_sidebar": "Contents",
   "toc_cell": false,
   "toc_position": {},
   "toc_section_display": true,
   "toc_window_display": true
  }
 },
 "nbformat": 4,
 "nbformat_minor": 5
}
