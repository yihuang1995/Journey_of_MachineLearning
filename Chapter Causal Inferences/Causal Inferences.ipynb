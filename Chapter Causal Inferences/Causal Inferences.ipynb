{
 "cells": [
  {
   "cell_type": "markdown",
   "id": "handled-neighbor",
   "metadata": {},
   "source": [
    "In this chapter, we are focusing on causal inferences"
   ]
  },
  {
   "cell_type": "markdown",
   "id": "marine-internet",
   "metadata": {},
   "source": [
    "Challenges & Concepts:\n",
    "1. Confounders\n",
    "2. Selection bias: selected group doesn't represent the public \n",
    "3. Counterfactuals: machine learning and \"matching\"\n",
    "\n",
    "Causal Inference Assumptions\n",
    "1. Causal Markov Condition\n",
    "    - causal Graph\n",
    "    - Directed Acyclic Graph (DAG)\n",
    "2. SUTVA (Stable Unit Treatment Value Assumption)\n",
    "3. Ignorability: ignore unknown confounders\n",
    "4. Consistency: outcome is consistent across all samples "
   ]
  },
  {
   "cell_type": "markdown",
   "id": "stainless-import",
   "metadata": {},
   "source": [
    "## Randomized Controlled Tests (RCTs)"
   ]
  },
  {
   "cell_type": "markdown",
   "id": "acute-civilian",
   "metadata": {},
   "source": [
    "Aka AB testing"
   ]
  },
  {
   "cell_type": "markdown",
   "id": "genetic-climb",
   "metadata": {},
   "source": [
    "cons: \n",
    "* In some senario, setting up the experiment is impossible\n",
    "* Experiment takes too long\n",
    "* Bias"
   ]
  },
  {
   "cell_type": "markdown",
   "id": "manufactured-intelligence",
   "metadata": {},
   "source": [
    "## Causal Inference "
   ]
  },
  {
   "cell_type": "markdown",
   "id": "numerical-anatomy",
   "metadata": {},
   "source": [
    "Background: using historical data. With two groups of ppl, testing/control group (but different from AB testing), with test result."
   ]
  },
  {
   "cell_type": "markdown",
   "id": "valid-python",
   "metadata": {},
   "source": [
    "* Observation (what we observed): E[result of exposed users] - E[result of unexposed users]\n",
    "* Causal effect (what we want): E[result of exposed users] - E[result of exposed users had they not beeen exposed]\n",
    "* Selection bias (observation - causation): E[result of exposed users had they not beeen exposed] - E[result of unexposed users]"
   ]
  },
  {
   "cell_type": "markdown",
   "id": "clinical-reaction",
   "metadata": {},
   "source": [
    "Methods\n",
    "* Use <b>matching or machine learning</b> (group and confounders as Xs) to fill the table (i.e. single unit has both test and control columns). Basically guessing what would be the result if a testing unit is in the control group and vise versa.\n",
    "* Same confounder condition -> fill the testing result table from test/control\n",
    "* Test column - Control column to get ITE\n",
    "* ATE = mean(ITE)"
   ]
  },
  {
   "cell_type": "markdown",
   "id": "protected-present",
   "metadata": {},
   "source": [
    "Other methods:\n",
    "* One-to-one matching\n",
    "* Propensity Scoring Matching\n",
    "    * Prediction: predict propensity to receive treatment\n",
    "    * Matching\n",
    "* Regression Discontinuity Design (RDD)\n",
    "* Inserse Probability Treatment Weighting \n",
    "* Difference in difference "
   ]
  },
  {
   "cell_type": "markdown",
   "id": "equipped-hands",
   "metadata": {},
   "source": [
    "## References\n",
    "* https://www.youtube.com/watch?v=fd99wamOW8Q"
   ]
  }
 ],
 "metadata": {
  "kernelspec": {
   "display_name": "Python 3",
   "language": "python",
   "name": "python3"
  },
  "language_info": {
   "codemirror_mode": {
    "name": "ipython",
    "version": 3
   },
   "file_extension": ".py",
   "mimetype": "text/x-python",
   "name": "python",
   "nbconvert_exporter": "python",
   "pygments_lexer": "ipython3",
   "version": "3.8.10"
  }
 },
 "nbformat": 4,
 "nbformat_minor": 5
}
