{
 "cells": [
  {
   "cell_type": "code",
   "execution_count": 1,
   "id": "intimate-navigation",
   "metadata": {},
   "outputs": [],
   "source": [
    "import os, warnings\n",
    "import wandb\n",
    "import numpy as py\n",
    "import pandas as pd\n",
    "from fastai.vision.all import *\n",
    "from sklearn.model_selection import StratifiedGroupKFold\n",
    "\n",
    "import params\n",
    "warnings.filterwarnings('ignore')"
   ]
  },
  {
   "cell_type": "markdown",
   "id": "transsexual-ethics",
   "metadata": {},
   "source": [
    "In this notebook, we split data into train, test, validate using previous data artifact"
   ]
  },
  {
   "cell_type": "code",
   "execution_count": 2,
   "id": "improved-mention",
   "metadata": {},
   "outputs": [
    {
     "name": "stderr",
     "output_type": "stream",
     "text": [
      "\u001b[34m\u001b[1mwandb\u001b[0m: Currently logged in as: \u001b[33myihuanghz95\u001b[0m. Use \u001b[1m`wandb login --relogin`\u001b[0m to force relogin\n"
     ]
    },
    {
     "data": {
      "text/html": [
       "wandb version 0.15.8 is available!  To upgrade, please run:\n",
       " $ pip install wandb --upgrade"
      ],
      "text/plain": [
       "<IPython.core.display.HTML object>"
      ]
     },
     "metadata": {},
     "output_type": "display_data"
    },
    {
     "data": {
      "text/html": [
       "Tracking run with wandb version 0.15.7"
      ],
      "text/plain": [
       "<IPython.core.display.HTML object>"
      ]
     },
     "metadata": {},
     "output_type": "display_data"
    },
    {
     "data": {
      "text/html": [
       "Run data is saved locally in <code>/home/yi/Documents/GitHub/Journey_of_MachineLearning/Chapter MLOps: wandb/wandb/run-20230805_230359-h1xpoqhg</code>"
      ],
      "text/plain": [
       "<IPython.core.display.HTML object>"
      ]
     },
     "metadata": {},
     "output_type": "display_data"
    },
    {
     "data": {
      "text/html": [
       "Syncing run <strong><a href='https://wandb.ai/yihuanghz95/mlops-course-001/runs/h1xpoqhg' target=\"_blank\">legendary-fire-2</a></strong> to <a href='https://wandb.ai/yihuanghz95/mlops-course-001' target=\"_blank\">Weights & Biases</a> (<a href='https://wandb.me/run' target=\"_blank\">docs</a>)<br/>"
      ],
      "text/plain": [
       "<IPython.core.display.HTML object>"
      ]
     },
     "metadata": {},
     "output_type": "display_data"
    },
    {
     "data": {
      "text/html": [
       " View project at <a href='https://wandb.ai/yihuanghz95/mlops-course-001' target=\"_blank\">https://wandb.ai/yihuanghz95/mlops-course-001</a>"
      ],
      "text/plain": [
       "<IPython.core.display.HTML object>"
      ]
     },
     "metadata": {},
     "output_type": "display_data"
    },
    {
     "data": {
      "text/html": [
       " View run at <a href='https://wandb.ai/yihuanghz95/mlops-course-001/runs/h1xpoqhg' target=\"_blank\">https://wandb.ai/yihuanghz95/mlops-course-001/runs/h1xpoqhg</a>"
      ],
      "text/plain": [
       "<IPython.core.display.HTML object>"
      ]
     },
     "metadata": {},
     "output_type": "display_data"
    }
   ],
   "source": [
    "run = wandb.init(project=params.WANDB_PROJECT, entity=params.ENTITY, job_type=\"data_split\")"
   ]
  },
  {
   "cell_type": "code",
   "execution_count": 5,
   "id": "missing-billy",
   "metadata": {
    "scrolled": true
   },
   "outputs": [
    {
     "name": "stderr",
     "output_type": "stream",
     "text": [
      "\u001b[34m\u001b[1mwandb\u001b[0m: Downloading large artifact bdd_simple_1k:latest, 846.57MB. 4007 files... \n",
      "\u001b[34m\u001b[1mwandb\u001b[0m:   4007 of 4007 files downloaded.  \n",
      "Done. 0:0:13.3\n"
     ]
    }
   ],
   "source": [
    "#previous stored artifact\n",
    "raw_data_at = run.use_artifact(f'{params.RAW_DATA_AT}:latest')\n",
    "path = Path(raw_data_at.download())"
   ]
  },
  {
   "cell_type": "markdown",
   "id": "intensive-helping",
   "metadata": {},
   "source": [
    "file names, groups and target "
   ]
  },
  {
   "cell_type": "code",
   "execution_count": 6,
   "id": "tribal-roberts",
   "metadata": {},
   "outputs": [],
   "source": [
    "fnames = os.listdir(path/'images')\n",
    "groups = [s.split('-')[0] for s in fnames]"
   ]
  },
  {
   "cell_type": "code",
   "execution_count": 7,
   "id": "numerous-stocks",
   "metadata": {},
   "outputs": [
    {
     "name": "stderr",
     "output_type": "stream",
     "text": [
      "\u001b[34m\u001b[1mwandb\u001b[0m: Downloading large artifact bdd_simple_1k:latest, 846.57MB. 4007 files... \n",
      "\u001b[34m\u001b[1mwandb\u001b[0m:   4007 of 4007 files downloaded.  \n",
      "Done. 0:0:11.4\n"
     ]
    }
   ],
   "source": [
    "orig_eda_table = raw_data_at.get(\"eda_table\")"
   ]
  },
  {
   "cell_type": "code",
   "execution_count": 8,
   "id": "necessary-amateur",
   "metadata": {},
   "outputs": [],
   "source": [
    "y = orig_eda_table.get_column('bicycle')"
   ]
  },
  {
   "cell_type": "code",
   "execution_count": 9,
   "id": "ruled-scheduling",
   "metadata": {},
   "outputs": [],
   "source": [
    "df = pd.DataFrame()\n",
    "df['File_Name'] = fnames\n",
    "df['fold'] = -1\n",
    "\n",
    "cv = StratifiedGroupKFold(n_splits=10)\n",
    "for i, (train_idxs, test_idxs) in enumerate(cv.split(fnames, y, groups)):\n",
    "    df.loc[test_idxs, ['fold']] = i"
   ]
  },
  {
   "cell_type": "code",
   "execution_count": 10,
   "id": "renewable-blair",
   "metadata": {},
   "outputs": [
    {
     "data": {
      "text/plain": [
       "train    800\n",
       "valid    100\n",
       "test     100\n",
       "Name: Stage, dtype: int64"
      ]
     },
     "execution_count": 10,
     "metadata": {},
     "output_type": "execute_result"
    }
   ],
   "source": [
    "df['Stage'] = 'train'\n",
    "df.loc[df.fold == 0, ['Stage']] = 'test'\n",
    "df.loc[df.fold == 1, ['Stage']] = 'valid'\n",
    "del df['fold']\n",
    "df.Stage.value_counts()"
   ]
  },
  {
   "cell_type": "markdown",
   "id": "introductory-territory",
   "metadata": {},
   "source": [
    "Add data to artifact"
   ]
  },
  {
   "cell_type": "code",
   "execution_count": 11,
   "id": "minute-donna",
   "metadata": {},
   "outputs": [],
   "source": [
    "processed_data_at = wandb.Artifact(params.PROCESSED_DATA_AT, type=\"split_data\")"
   ]
  },
  {
   "cell_type": "code",
   "execution_count": 12,
   "id": "standard-brunswick",
   "metadata": {},
   "outputs": [],
   "source": [
    "df.to_csv('data_split.csv', index=False)"
   ]
  },
  {
   "cell_type": "code",
   "execution_count": 13,
   "id": "joint-truck",
   "metadata": {},
   "outputs": [
    {
     "name": "stderr",
     "output_type": "stream",
     "text": [
      "\u001b[34m\u001b[1mwandb\u001b[0m: Adding directory to artifact (./artifacts/bdd_simple_1k:latest)... Done. 3.5s\n"
     ]
    }
   ],
   "source": [
    "processed_data_at.add_file('data_split.csv')\n",
    "processed_data_at.add_dir(path)"
   ]
  },
  {
   "cell_type": "markdown",
   "id": "superior-belfast",
   "metadata": {},
   "source": [
    "Add back to the EDA table"
   ]
  },
  {
   "cell_type": "code",
   "execution_count": 14,
   "id": "classical-termination",
   "metadata": {},
   "outputs": [],
   "source": [
    "data_split_table = wandb.Table(dataframe=df[['File_Name', 'Stage']])\n",
    "join_table = wandb.JoinedTable(orig_eda_table, data_split_table, \"File_Name\")"
   ]
  },
  {
   "cell_type": "code",
   "execution_count": 15,
   "id": "dense-serve",
   "metadata": {},
   "outputs": [
    {
     "data": {
      "text/plain": [
       "<wandb.sdk.artifacts.artifact_manifest_entry.ArtifactManifestEntry at 0x7fe1f96624f0>"
      ]
     },
     "execution_count": 15,
     "metadata": {},
     "output_type": "execute_result"
    }
   ],
   "source": [
    "processed_data_at.add(join_table, \"eda_table_data_split\")"
   ]
  },
  {
   "cell_type": "code",
   "execution_count": 16,
   "id": "genetic-action",
   "metadata": {},
   "outputs": [
    {
     "data": {
      "text/html": [
       "Waiting for W&B process to finish... <strong style=\"color:green\">(success).</strong>"
      ],
      "text/plain": [
       "<IPython.core.display.HTML object>"
      ]
     },
     "metadata": {},
     "output_type": "display_data"
    },
    {
     "data": {
      "text/html": [
       " View run <strong style=\"color:#cdcd00\">legendary-fire-2</strong> at: <a href='https://wandb.ai/yihuanghz95/mlops-course-001/runs/h1xpoqhg' target=\"_blank\">https://wandb.ai/yihuanghz95/mlops-course-001/runs/h1xpoqhg</a><br/> View job at <a href='https://wandb.ai/yihuanghz95/mlops-course-001/jobs/QXJ0aWZhY3RDb2xsZWN0aW9uOjg4MjI3NDM5/version_details/v0' target=\"_blank\">https://wandb.ai/yihuanghz95/mlops-course-001/jobs/QXJ0aWZhY3RDb2xsZWN0aW9uOjg4MjI3NDM5/version_details/v0</a><br/>Synced 5 W&B file(s), 0 media file(s), 4011 artifact file(s) and 0 other file(s)"
      ],
      "text/plain": [
       "<IPython.core.display.HTML object>"
      ]
     },
     "metadata": {},
     "output_type": "display_data"
    },
    {
     "data": {
      "text/html": [
       "Find logs at: <code>./wandb/run-20230805_230359-h1xpoqhg/logs</code>"
      ],
      "text/plain": [
       "<IPython.core.display.HTML object>"
      ]
     },
     "metadata": {},
     "output_type": "display_data"
    }
   ],
   "source": [
    "run.log_artifact(processed_data_at)\n",
    "run.finish()"
   ]
  },
  {
   "cell_type": "code",
   "execution_count": null,
   "id": "miniature-circulation",
   "metadata": {},
   "outputs": [],
   "source": []
  }
 ],
 "metadata": {
  "kernelspec": {
   "display_name": "Python 3",
   "language": "python",
   "name": "python3"
  },
  "language_info": {
   "codemirror_mode": {
    "name": "ipython",
    "version": 3
   },
   "file_extension": ".py",
   "mimetype": "text/x-python",
   "name": "python",
   "nbconvert_exporter": "python",
   "pygments_lexer": "ipython3",
   "version": "3.8.10"
  }
 },
 "nbformat": 4,
 "nbformat_minor": 5
}
