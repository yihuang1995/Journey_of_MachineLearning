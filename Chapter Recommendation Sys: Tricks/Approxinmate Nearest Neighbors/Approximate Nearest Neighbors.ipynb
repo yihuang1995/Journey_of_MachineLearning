{
 "cells": [
  {
   "cell_type": "code",
   "execution_count": null,
   "id": "manual-report",
   "metadata": {},
   "outputs": [],
   "source": [
    "import numpy as np\n",
    "import pandas as pd"
   ]
  },
  {
   "cell_type": "markdown",
   "id": "peripheral-compilation",
   "metadata": {},
   "source": [
    "Goal:Finding the nearest neighbors in a large dataset is a computationally expensive task, known as an NP-hard problem. To address this challenge, we employ approximate nearest neighbor techniques, which offer more efficient computational solutions while providing reasonably accurate results. By utilizing approximate nearest neighbors, we can strike a balance between computational cost and the accuracy of our neighbor search algorithms."
   ]
  },
  {
   "cell_type": "markdown",
   "id": "light-complaint",
   "metadata": {},
   "source": [
    "Reference:\n",
    "https://github.com/erikbern/ann-benchmarks"
   ]
  },
  {
   "cell_type": "markdown",
   "id": "organic-berry",
   "metadata": {},
   "source": [
    "ANNOY: Tree based algorithm. The main idea behind ANNOY is to divide the high-dimensional space into smaller partitions called trees. Each tree represents a subset of the data points and is constructed using random projections. These random projections help to preserve the neighborhood relationships between data points in lower dimensions. \n",
    "\n",
    "O(logn) instead of O(n)"
   ]
  },
  {
   "cell_type": "code",
   "execution_count": 4,
   "id": "designed-huntington",
   "metadata": {},
   "outputs": [
    {
     "name": "stdout",
     "output_type": "stream",
     "text": [
      "[0, 594, 267, 185, 671, 500, 951, 405, 98, 617]\n"
     ]
    }
   ],
   "source": [
    "from annoy import AnnoyIndex\n",
    "import random\n",
    "import time\n",
    "\n",
    "f = 40  # Length of item vector that will be indexed\n",
    "\n",
    "t = AnnoyIndex(f, 'angular')\n",
    "for i in range(1000):\n",
    "    v = [random.gauss(0, 1) for z in range(f)]\n",
    "    t.add_item(i, v)\n",
    "\n",
    "t.build(10) # 10 trees\n",
    "t.save('test.ann')\n",
    "\n",
    "# ...\n",
    "\n",
    "u = AnnoyIndex(f, 'angular')\n",
    "u.load('test.ann') # super fast, will just mmap the file\n",
    "print(u.get_nns_by_item(0, 10)) # will find the 1000 nearest neighbors for index 0 "
   ]
  }
 ],
 "metadata": {
  "kernelspec": {
   "display_name": "Python 3",
   "language": "python",
   "name": "python3"
  },
  "language_info": {
   "codemirror_mode": {
    "name": "ipython",
    "version": 3
   },
   "file_extension": ".py",
   "mimetype": "text/x-python",
   "name": "python",
   "nbconvert_exporter": "python",
   "pygments_lexer": "ipython3",
   "version": "3.8.10"
  }
 },
 "nbformat": 4,
 "nbformat_minor": 5
}
