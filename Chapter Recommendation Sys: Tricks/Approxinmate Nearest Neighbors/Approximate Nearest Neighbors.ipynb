{
 "cells": [
  {
   "cell_type": "code",
   "execution_count": null,
   "id": "automotive-seminar",
   "metadata": {},
   "outputs": [],
   "source": [
    "import numpy as np\n",
    "import pandas as pd"
   ]
  },
  {
   "cell_type": "markdown",
   "id": "controversial-north",
   "metadata": {},
   "source": [
    "Goal:Finding the nearest neighbors in a large dataset is a computationally expensive task, known as an NP-hard problem. To address this challenge, we employ approximate nearest neighbor techniques, which offer more efficient computational solutions while providing reasonably accurate results. By utilizing approximate nearest neighbors, we can strike a balance between computational cost and the accuracy of our neighbor search algorithms."
   ]
  },
  {
   "cell_type": "markdown",
   "id": "acute-provision",
   "metadata": {},
   "source": [
    "Annoy"
   ]
  }
 ],
 "metadata": {
  "kernelspec": {
   "display_name": "Python 3",
   "language": "python",
   "name": "python3"
  },
  "language_info": {
   "codemirror_mode": {
    "name": "ipython",
    "version": 3
   },
   "file_extension": ".py",
   "mimetype": "text/x-python",
   "name": "python",
   "nbconvert_exporter": "python",
   "pygments_lexer": "ipython3",
   "version": "3.8.10"
  }
 },
 "nbformat": 4,
 "nbformat_minor": 5
}
