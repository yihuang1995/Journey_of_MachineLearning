{
 "cells": [
  {
   "cell_type": "markdown",
   "id": "thrown-stockholm",
   "metadata": {},
   "source": [
    "In this chapter, I will introduce two methods for candidate generation. Which is the first step of a complex recommendation system in which step we narrow down billions of items for user to hundrieds.\n",
    "\n",
    "Two methods are item based and user based collaborate filtering based on different assumptions"
   ]
  },
  {
   "cell_type": "markdown",
   "id": "accurate-expert",
   "metadata": {},
   "source": [
    "## Item based"
   ]
  },
  {
   "cell_type": "markdown",
   "id": "proprietary-malaysia",
   "metadata": {},
   "source": [
    "Two dictionaries to maintain: \n",
    "* user-item: user's recent n items\n",
    "* item-item: each item's k nearest item neighbors"
   ]
  },
  {
   "cell_type": "markdown",
   "id": "adjusted-nigeria",
   "metadata": {},
   "source": [
    "### Without Rating"
   ]
  },
  {
   "cell_type": "markdown",
   "id": "aquatic-shark",
   "metadata": {},
   "source": [
    "Similarity between item i and item j"
   ]
  },
  {
   "cell_type": "code",
   "execution_count": 1,
   "id": "separated-albuquerque",
   "metadata": {},
   "outputs": [],
   "source": [
    "# user-item-score\n",
    "user_item_score = {'item1':{'user5':1,'user2':10,'user4':4},'item2':{'user1':3,'user2':8,'user4':6},}"
   ]
  },
  {
   "cell_type": "code",
   "execution_count": 2,
   "id": "together-facility",
   "metadata": {},
   "outputs": [],
   "source": [
    "v = len(set(user_item_score['item1']).intersection(set(user_item_score['item2'])))\n",
    "wi = len(user_item_score['item1'])\n",
    "wj = len(user_item_score['item2'])\n",
    "sim_i_j = v/(wi*wj)**0.5"
   ]
  },
  {
   "cell_type": "code",
   "execution_count": 3,
   "id": "funded-audio",
   "metadata": {},
   "outputs": [
    {
     "data": {
      "text/plain": [
       "0.6666666666666666"
      ]
     },
     "execution_count": 3,
     "metadata": {},
     "output_type": "execute_result"
    }
   ],
   "source": [
    "sim_i_j"
   ]
  },
  {
   "cell_type": "markdown",
   "id": "crazy-homework",
   "metadata": {},
   "source": [
    "### With Rating"
   ]
  },
  {
   "cell_type": "markdown",
   "id": "clean-singles",
   "metadata": {},
   "source": [
    "Similar to cosine similarity measurement"
   ]
  },
  {
   "cell_type": "code",
   "execution_count": 4,
   "id": "rural-sixth",
   "metadata": {},
   "outputs": [],
   "source": [
    "v = set(user_item_score['item1']).intersection(set(user_item_score['item2']))"
   ]
  },
  {
   "cell_type": "code",
   "execution_count": 5,
   "id": "tutorial-pacific",
   "metadata": {},
   "outputs": [],
   "source": [
    "v_rating = sum(user_item_score['item1'][x] * user_item_score['item2'][x] for x in v)\n",
    "wi = sum(x**2 for x in user_item_score['item1'].values())**0.5\n",
    "wj = sum(x**2 for x in user_item_score['item2'].values())**0.5"
   ]
  },
  {
   "cell_type": "code",
   "execution_count": 6,
   "id": "assumed-edinburgh",
   "metadata": {},
   "outputs": [],
   "source": [
    "sim_i_j = v_rating/(wi*wj)"
   ]
  },
  {
   "cell_type": "code",
   "execution_count": 7,
   "id": "typical-pitch",
   "metadata": {},
   "outputs": [
    {
     "data": {
      "text/plain": [
       "0.9209311424938819"
      ]
     },
     "execution_count": 7,
     "metadata": {},
     "output_type": "execute_result"
    }
   ],
   "source": [
    "sim_i_j"
   ]
  },
  {
   "cell_type": "markdown",
   "id": "crazy-advertising",
   "metadata": {},
   "source": [
    "## User based"
   ]
  },
  {
   "cell_type": "markdown",
   "id": "thorough-mailing",
   "metadata": {},
   "source": [
    "Two dictionaries to maintain:\n",
    "* user-item: user's recent n items\n",
    "* user-user: user's most similar k users"
   ]
  }
 ],
 "metadata": {
  "kernelspec": {
   "display_name": "Python 3",
   "language": "python",
   "name": "python3"
  },
  "language_info": {
   "codemirror_mode": {
    "name": "ipython",
    "version": 3
   },
   "file_extension": ".py",
   "mimetype": "text/x-python",
   "name": "python",
   "nbconvert_exporter": "python",
   "pygments_lexer": "ipython3",
   "version": "3.8.10"
  }
 },
 "nbformat": 4,
 "nbformat_minor": 5
}
