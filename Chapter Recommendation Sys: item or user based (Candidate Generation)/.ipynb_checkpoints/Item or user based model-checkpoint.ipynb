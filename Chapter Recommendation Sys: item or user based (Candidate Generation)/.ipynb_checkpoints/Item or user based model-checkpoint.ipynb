{
 "cells": [
  {
   "cell_type": "markdown",
   "id": "thrown-stockholm",
   "metadata": {},
   "source": [
    "In this chapter, I will introduce two methods for candidate generation. Which is the first step of a complex recommendation system in which step we narrow down billions of items for user to hundrieds.\n",
    "\n",
    "Two methods are item based and user based collaborate filtering based on different assumptions"
   ]
  },
  {
   "cell_type": "markdown",
   "id": "accurate-expert",
   "metadata": {},
   "source": [
    "## User based"
   ]
  },
  {
   "cell_type": "markdown",
   "id": "proprietary-malaysia",
   "metadata": {},
   "source": [
    "Two dictionaries to maintain: \n",
    "* user-item: user's recent n items\n",
    "* item-item: each item's k nearest item neighbors"
   ]
  },
  {
   "cell_type": "markdown",
   "id": "crazy-advertising",
   "metadata": {},
   "source": [
    "## Item based"
   ]
  },
  {
   "cell_type": "markdown",
   "id": "thorough-mailing",
   "metadata": {},
   "source": [
    "Two dictionaries to maintain:\n",
    "\n",
    "    user-item: user's recent n items\n",
    "    user-user: user's most similar k users"
   ]
  }
 ],
 "metadata": {
  "kernelspec": {
   "display_name": "Python 3",
   "language": "python",
   "name": "python3"
  },
  "language_info": {
   "codemirror_mode": {
    "name": "ipython",
    "version": 3
   },
   "file_extension": ".py",
   "mimetype": "text/x-python",
   "name": "python",
   "nbconvert_exporter": "python",
   "pygments_lexer": "ipython3",
   "version": "3.8.10"
  }
 },
 "nbformat": 4,
 "nbformat_minor": 5
}
