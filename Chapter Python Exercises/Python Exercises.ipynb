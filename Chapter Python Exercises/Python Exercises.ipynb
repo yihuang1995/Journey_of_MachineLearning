{
 "cells": [
  {
   "cell_type": "markdown",
   "id": "adjustable-compromise",
   "metadata": {},
   "source": [
    "### Task 1 Given a list and prob, generate an array"
   ]
  },
  {
   "cell_type": "code",
   "execution_count": 2,
   "id": "atlantic-survey",
   "metadata": {},
   "outputs": [
    {
     "data": {
      "text/plain": [
       "{3: 5000406, 5: 3331942, 11: 556144, 7: 1111508}"
      ]
     },
     "execution_count": 2,
     "metadata": {},
     "output_type": "execute_result"
    }
   ],
   "source": [
    "import random\n",
    "\n",
    "def random_picker(pick_list,prob_list,n_iter):\n",
    "    result = {}\n",
    "    cum_prob = [sum(prob_list[:i+1]) for i in range(len(probs))]\n",
    "    for _ in range(n_iter):\n",
    "        r_num = random.random()\n",
    "        index = len([x for x in cum_prob if x < r_num]) # could be optimized further\n",
    "        value = pick_list[index]\n",
    "        result[value] = result.get(value,0)+1\n",
    "    return result\n",
    "\n",
    "values = [3,5,7,11]\n",
    "probs = [9/18,6/18,2/18,1/18]\n",
    "\n",
    "random_picker(values,probs,10000000)"
   ]
  },
  {
   "cell_type": "markdown",
   "id": "upset-suspension",
   "metadata": {},
   "source": [
    "### Task 2 Welford's online algorithm"
   ]
  },
  {
   "cell_type": "code",
   "execution_count": null,
   "id": "oriental-circumstances",
   "metadata": {},
   "outputs": [],
   "source": []
  },
  {
   "cell_type": "markdown",
   "id": "statutory-ottawa",
   "metadata": {},
   "source": [
    "### Task 3 simulating a fair coin with a biased coin"
   ]
  },
  {
   "cell_type": "markdown",
   "id": "adequate-today",
   "metadata": {},
   "source": [
    "P(H) = p, P(T) = 1-p"
   ]
  },
  {
   "cell_type": "code",
   "execution_count": null,
   "id": "surprised-needle",
   "metadata": {},
   "outputs": [],
   "source": [
    "import random\n",
    "def biased_coin(p):\n",
    "    return int(random.random < p)\n",
    "\n"
   ]
  }
 ],
 "metadata": {
  "kernelspec": {
   "display_name": "Python 3",
   "language": "python",
   "name": "python3"
  },
  "language_info": {
   "codemirror_mode": {
    "name": "ipython",
    "version": 3
   },
   "file_extension": ".py",
   "mimetype": "text/x-python",
   "name": "python",
   "nbconvert_exporter": "python",
   "pygments_lexer": "ipython3",
   "version": "3.8.10"
  }
 },
 "nbformat": 4,
 "nbformat_minor": 5
}
