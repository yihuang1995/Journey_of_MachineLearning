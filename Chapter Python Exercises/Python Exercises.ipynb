{
 "cells": [
  {
   "cell_type": "markdown",
   "id": "adjustable-compromise",
   "metadata": {},
   "source": [
    "### Task 1 Given a list and prob, generate an array"
   ]
  },
  {
   "cell_type": "code",
   "execution_count": 2,
   "id": "atlantic-survey",
   "metadata": {},
   "outputs": [
    {
     "data": {
      "text/plain": [
       "{3: 5000406, 5: 3331942, 11: 556144, 7: 1111508}"
      ]
     },
     "execution_count": 2,
     "metadata": {},
     "output_type": "execute_result"
    }
   ],
   "source": [
    "import random\n",
    "\n",
    "def random_picker(pick_list,prob_list,n_iter):\n",
    "    result = {}\n",
    "    cum_prob = [sum(prob_list[:i+1]) for i in range(len(probs))]\n",
    "    for _ in range(n_iter):\n",
    "        r_num = random.random()\n",
    "        index = len([x for x in cum_prob if x < r_num]) # could be optimized further\n",
    "        value = pick_list[index]\n",
    "        result[value] = result.get(value,0)+1\n",
    "    return result\n",
    "\n",
    "values = [3,5,7,11]\n",
    "probs = [9/18,6/18,2/18,1/18]\n",
    "\n",
    "random_picker(values,probs,10000000)"
   ]
  },
  {
   "cell_type": "markdown",
   "id": "upset-suspension",
   "metadata": {},
   "source": [
    "### Task 2 Welford's online algorithm"
   ]
  },
  {
   "cell_type": "code",
   "execution_count": null,
   "id": "oriental-circumstances",
   "metadata": {},
   "outputs": [],
   "source": []
  },
  {
   "cell_type": "markdown",
   "id": "statutory-ottawa",
   "metadata": {},
   "source": [
    "### Task 3 simulating a fair coin with a biased coin"
   ]
  },
  {
   "cell_type": "markdown",
   "id": "adequate-today",
   "metadata": {},
   "source": [
    "P(H) = p, P(T) = 1-p"
   ]
  },
  {
   "cell_type": "code",
   "execution_count": 12,
   "id": "surprised-needle",
   "metadata": {},
   "outputs": [
    {
     "data": {
      "text/plain": [
       "0.49992"
      ]
     },
     "execution_count": 12,
     "metadata": {},
     "output_type": "execute_result"
    }
   ],
   "source": [
    "import random\n",
    "def biased_coin(p):\n",
    "    return int(random.random() < p)\n",
    "\n",
    "def fair_coin(p):\n",
    "    roll1 = roll2 = 0\n",
    "    while roll1 ==roll2:\n",
    "        roll1 = biased_coin(p)\n",
    "        roll2 = biased_coin(p)\n",
    "    if roll1 == 1 and roll2 == 0:\n",
    "        return 1\n",
    "    else:\n",
    "        return 0\n",
    "\n",
    "n_iter =  100000\n",
    "n_head = 0\n",
    "for i in range(n_iter):\n",
    "    if fair_coin(0.3):\n",
    "        n_head +=1\n",
    "n_head/n_iter"
   ]
  },
  {
   "cell_type": "markdown",
   "id": "otherwise-positive",
   "metadata": {},
   "source": [
    "### Task 4 simulate PI"
   ]
  },
  {
   "cell_type": "code",
   "execution_count": 3,
   "id": "specialized-newspaper",
   "metadata": {},
   "outputs": [],
   "source": [
    "import random \n",
    "def pi_simulator(n_iters):\n",
    "    ttl_cnt_pi = 0\n",
    "    for _ in range(n_iters):\n",
    "        x = random.uniform(-1,1)\n",
    "        y = random.uniform(-1,1)\n",
    "        if (x**2 + y**2)**0.5 <= 1:\n",
    "            ttl_cnt_pi +=1\n",
    "    return 4 * ttl_cnt_pi / n_iters\n",
    "        "
   ]
  },
  {
   "cell_type": "code",
   "execution_count": 6,
   "id": "beneficial-found",
   "metadata": {},
   "outputs": [
    {
     "data": {
      "text/plain": [
       "3.141446"
      ]
     },
     "execution_count": 6,
     "metadata": {},
     "output_type": "execute_result"
    }
   ],
   "source": [
    "pi_simulator(10000000)"
   ]
  },
  {
   "cell_type": "markdown",
   "id": "unable-gather",
   "metadata": {},
   "source": [
    "### Task 5 Given x and y, calculate area under the curve"
   ]
  },
  {
   "cell_type": "markdown",
   "id": "younger-hamburg",
   "metadata": {},
   "source": [
    "Trapezoidal rule"
   ]
  },
  {
   "cell_type": "markdown",
   "id": "compatible-moore",
   "metadata": {},
   "source": [
    "### Task 6 Bagofwords"
   ]
  },
  {
   "cell_type": "markdown",
   "id": "occasional-party",
   "metadata": {},
   "source": [
    "For a collection of documents find the vocabulary and the bag of word \n",
    "matrix example: Input:\n",
    "\n",
    "doc1='Thequickbrownfoxjumpsoverthelazywolf'\n",
    "\n",
    "doc2='Thefastbrownfoxjumpsoverthelazydog'\n",
    "\n",
    "doc3='Thespeedybrownfoxhopsoverthelazydog'\n",
    "\n",
    "Output: (['brown''dog''fast''fox''hops''jumps''lazy''over''quick''speedy''the'From1point3acresbbs'wolf']\n",
    "[[100101111021][111101110020][110110110120]])"
   ]
  },
  {
   "cell_type": "code",
   "execution_count": null,
   "id": "integrated-syntax",
   "metadata": {},
   "outputs": [],
   "source": []
  }
 ],
 "metadata": {
  "kernelspec": {
   "display_name": "Python 3",
   "language": "python",
   "name": "python3"
  },
  "language_info": {
   "codemirror_mode": {
    "name": "ipython",
    "version": 3
   },
   "file_extension": ".py",
   "mimetype": "text/x-python",
   "name": "python",
   "nbconvert_exporter": "python",
   "pygments_lexer": "ipython3",
   "version": "3.8.10"
  }
 },
 "nbformat": 4,
 "nbformat_minor": 5
}
